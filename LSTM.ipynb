{
 "cells": [
  {
   "cell_type": "markdown",
   "metadata": {},
   "source": [
    "# ASSIGNMENT 2"
   ]
  },
  {
   "cell_type": "markdown",
   "metadata": {},
   "source": [
    "# Part 3 (Build and Train an RNN on MNIST)"
   ]
  },
  {
   "cell_type": "markdown",
   "metadata": {},
   "source": [
    "After training our network, we had a Loss = 0.069390 and Training Accuracy = 0.98000. Also, the Testing Accuracy = 0.9804. WHich is a very good result.\n",
    "\n",
    "However, after we changed line 35 in our code to rnn_cell.BasicRNNCell(nHidden) in order to use LSTM and GRU instead of RNN. We had a Loss = 0.051129 and Training Accuracy = 0.99000 with Testing Accuracy = 0.9769. Also a very good outcome. However, the formal is better.\n",
    "\n",
    "Comparing these two results to training using convnet in assignment 1. In assignment 1, We had a Training Accuracy = 0.98 with Testing Accuracy = 0.9883. \n",
    "\n",
    "All three networks gives great outcome, however, training using convnet has the highest Testing Accuracy but it takes the highest c time."
   ]
  },
  {
   "cell_type": "code",
   "execution_count": 2,
   "metadata": {
    "scrolled": true
   },
   "outputs": [
    {
     "name": "stdout",
     "output_type": "stream",
     "text": [
      "Extracting /tmp/data/train-images-idx3-ubyte.gz\n",
      "Extracting /tmp/data/train-labels-idx1-ubyte.gz\n",
      "Extracting /tmp/data/t10k-images-idx3-ubyte.gz\n",
      "Extracting /tmp/data/t10k-labels-idx1-ubyte.gz\n"
     ]
    },
    {
     "name": "stderr",
     "output_type": "stream",
     "text": [
      "W1105 06:51:23.760756  3676 deprecation.py:323] From <ipython-input-2-cf8d60855ef7>:35: BasicLSTMCell.__init__ (from tensorflow.python.ops.rnn_cell_impl) is deprecated and will be removed in a future version.\n",
      "Instructions for updating:\n",
      "This class is equivalent as tf.keras.layers.LSTMCell, and will be replaced by that in Tensorflow 2.0.\n",
      "W1105 06:51:23.761754  3676 deprecation.py:323] From <ipython-input-2-cf8d60855ef7>:37: static_rnn (from tensorflow.python.ops.rnn) is deprecated and will be removed in a future version.\n",
      "Instructions for updating:\n",
      "Please use `keras.layers.RNN(cell, unroll=True)`, which is equivalent to this API\n",
      "W1105 06:51:23.799687  3676 deprecation.py:506] From C:\\Users\\oyeoy\\Anaconda3\\lib\\site-packages\\tensorflow\\python\\ops\\init_ops.py:1251: calling VarianceScaling.__init__ (from tensorflow.python.ops.init_ops) with dtype is deprecated and will be removed in a future version.\n",
      "Instructions for updating:\n",
      "Call initializer instance with the dtype argument instead of passing it to the constructor\n",
      "W1105 06:51:23.815614  3676 deprecation.py:506] From C:\\Users\\oyeoy\\Anaconda3\\lib\\site-packages\\tensorflow\\python\\ops\\rnn_cell_impl.py:738: calling Zeros.__init__ (from tensorflow.python.ops.init_ops) with dtype is deprecated and will be removed in a future version.\n",
      "Instructions for updating:\n",
      "Call initializer instance with the dtype argument instead of passing it to the constructor\n",
      "W1105 06:51:24.466904  3676 deprecation.py:323] From <ipython-input-2-cf8d60855ef7>:46: softmax_cross_entropy_with_logits (from tensorflow.python.ops.nn_ops) is deprecated and will be removed in a future version.\n",
      "Instructions for updating:\n",
      "\n",
      "Future major versions of TensorFlow will allow gradients to flow\n",
      "into the labels input on backprop by default.\n",
      "\n",
      "See `tf.nn.softmax_cross_entropy_with_logits_v2`.\n",
      "\n"
     ]
    },
    {
     "name": "stdout",
     "output_type": "stream",
     "text": [
      "Iter 0, Minibatch Loss= 0.490804, Training Accuracy= 0.86000\n",
      "Iter 10, Minibatch Loss= 0.046969, Training Accuracy= 0.98000\n",
      "Iter 20, Minibatch Loss= 0.043729, Training Accuracy= 0.97000\n",
      "Iter 30, Minibatch Loss= 0.063595, Training Accuracy= 0.98000\n",
      "Iter 40, Minibatch Loss= 0.069390, Training Accuracy= 0.98000\n",
      "Optimization finished\n",
      "Testing Accuracy: 0.9804\n"
     ]
    }
   ],
   "source": [
    "import tensorflow as tf\n",
    "from tensorflow.python.ops import rnn, rnn_cell\n",
    "import numpy as np\n",
    "\n",
    "from tensorflow.examples.tutorials.mnist import input_data\n",
    "\n",
    "mnist = input_data.read_data_sets(\"/tmp/data/\", one_hot = True)\n",
    "\n",
    "learningRate =.0001\n",
    "trainingIters = 50\n",
    "batchSize = 100\n",
    "displayStep = 10\n",
    "\n",
    "nInput = 28 #we want the input to take the 28 pixels\n",
    "nSteps = 28 #every 28\n",
    "nHidden = 128 #number of neurons for the RNN\n",
    "nClasses = 10 #this is MNIST so you know\n",
    "\n",
    "x = tf.placeholder('float', [None, nSteps, nInput])\n",
    "y = tf.placeholder('float', [None, nClasses])\n",
    "\n",
    "weights = {\n",
    "    'out': tf.Variable(tf.random_normal([nHidden, nClasses]))\n",
    "}\n",
    "\n",
    "biases = {\n",
    "    'out': tf.Variable(tf.random_normal([nClasses]))\n",
    "}\n",
    "\n",
    "def RNN(x, weights, biases):\n",
    "    x = tf.transpose(x, [1,0,2])\n",
    "    x = tf.reshape(x, [-1, nInput])\n",
    "    x = tf.split(x, nSteps, 0) #configuring so you can get it as needed for the 28 pixels\n",
    "\n",
    "    lstmCell = rnn_cell.BasicLSTMCell(nHidden,state_is_tuple=True)#find which lstm to use in the documentation\n",
    "\n",
    "    outputs, states = rnn.static_rnn(lstmCell, x, dtype=tf.float32)#for the rnn where to get the output and hidden state\n",
    "\n",
    "    return tf.matmul(outputs[-1], weights['out'])+ biases['out']\n",
    "\n",
    "pred = RNN(x, weights, biases)\n",
    "\n",
    "#optimization\n",
    "#create the cost, optimization, evaluation, and accuracy\n",
    "#for the cost softmax_cross_entropy_with_logits seems really good\n",
    "cost = tf.reduce_mean( tf.nn.softmax_cross_entropy_with_logits(logits=pred, labels=y))\n",
    "optimizer = tf.train.AdamOptimizer(learningRate).minimize(cost)\n",
    "\n",
    "correctPred =tf.equal(tf.argmax(pred, 1), tf.argmax(y, 1))\n",
    "accuracy = tf.reduce_mean(tf.cast(correctPred, 'float'))\n",
    "\n",
    "init = tf.global_variables_initializer()\n",
    "\n",
    "with tf.Session() as sess:\n",
    "    sess.run(init)\n",
    "\n",
    "    # while step* batchSize < trainingIters:\n",
    "    for step in range(trainingIters):\n",
    "\n",
    "        for _ in range(int(mnist.train.num_examples / batchSize)):\n",
    "            batchX, batchY = mnist.train.next_batch(batchSize)#mnist has a way to get the next batch\n",
    "            batchX = batchX.reshape((batchSize, nSteps, nInput))\n",
    "\n",
    "            sess.run(optimizer, feed_dict={x: batchX, y:batchY})\n",
    "\n",
    "        if step % displayStep == 0:\n",
    "            acc = sess.run(accuracy, feed_dict={x: batchX, y:batchY})\n",
    "            loss = sess.run(cost, feed_dict={x: batchX, y:batchY})\n",
    "            print(\"Iter \" + str(step) + \", Minibatch Loss= \" +\n",
    "                  \"{:.6f}\".format(loss) + \", Training Accuracy= \" +\n",
    "                  \"{:.5f}\".format(acc))\n",
    "\n",
    "    print('Optimization finished')\n",
    "\n",
    "    testData = mnist.test.images.reshape((-1, nSteps, nInput))\n",
    "    testLabel = mnist.test.labels\n",
    "    print(\"Testing Accuracy:\", sess.run(accuracy, feed_dict={x: testData, y:testLabel}))"
   ]
  },
  {
   "cell_type": "code",
   "execution_count": null,
   "metadata": {},
   "outputs": [],
   "source": []
  },
  {
   "cell_type": "code",
   "execution_count": null,
   "metadata": {},
   "outputs": [],
   "source": []
  }
 ],
 "metadata": {
  "kernelspec": {
   "display_name": "Python 3",
   "language": "python",
   "name": "python3"
  },
  "language_info": {
   "codemirror_mode": {
    "name": "ipython",
    "version": 3
   },
   "file_extension": ".py",
   "mimetype": "text/x-python",
   "name": "python",
   "nbconvert_exporter": "python",
   "pygments_lexer": "ipython3",
   "version": "3.7.3"
  }
 },
 "nbformat": 4,
 "nbformat_minor": 2
}
