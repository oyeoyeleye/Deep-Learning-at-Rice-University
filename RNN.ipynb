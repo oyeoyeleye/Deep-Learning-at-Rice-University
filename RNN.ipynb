{
 "cells": [
  {
   "cell_type": "code",
   "execution_count": 1,
   "metadata": {},
   "outputs": [
    {
     "name": "stderr",
     "output_type": "stream",
     "text": [
      "WARNING: Logging before flag parsing goes to stderr.\n",
      "W1106 03:48:10.925215 10276 deprecation.py:323] From <ipython-input-1-1b96f7fad4ca>:7: read_data_sets (from tensorflow.contrib.learn.python.learn.datasets.mnist) is deprecated and will be removed in a future version.\n",
      "Instructions for updating:\n",
      "Please use alternatives such as official/mnist/dataset.py from tensorflow/models.\n",
      "W1106 03:48:10.929205 10276 deprecation.py:323] From C:\\Users\\oyeoy\\Anaconda3\\lib\\site-packages\\tensorflow\\contrib\\learn\\python\\learn\\datasets\\mnist.py:260: maybe_download (from tensorflow.contrib.learn.python.learn.datasets.base) is deprecated and will be removed in a future version.\n",
      "Instructions for updating:\n",
      "Please write your own downloading logic.\n",
      "W1106 03:48:10.931200 10276 deprecation.py:323] From C:\\Users\\oyeoy\\Anaconda3\\lib\\site-packages\\tensorflow\\contrib\\learn\\python\\learn\\datasets\\mnist.py:262: extract_images (from tensorflow.contrib.learn.python.learn.datasets.mnist) is deprecated and will be removed in a future version.\n",
      "Instructions for updating:\n",
      "Please use tf.data to implement this functionality.\n"
     ]
    },
    {
     "name": "stdout",
     "output_type": "stream",
     "text": [
      "Extracting /tmp/data/train-images-idx3-ubyte.gz\n"
     ]
    },
    {
     "name": "stderr",
     "output_type": "stream",
     "text": [
      "W1106 03:48:11.380996 10276 deprecation.py:323] From C:\\Users\\oyeoy\\Anaconda3\\lib\\site-packages\\tensorflow\\contrib\\learn\\python\\learn\\datasets\\mnist.py:267: extract_labels (from tensorflow.contrib.learn.python.learn.datasets.mnist) is deprecated and will be removed in a future version.\n",
      "Instructions for updating:\n",
      "Please use tf.data to implement this functionality.\n",
      "W1106 03:48:11.384986 10276 deprecation.py:323] From C:\\Users\\oyeoy\\Anaconda3\\lib\\site-packages\\tensorflow\\contrib\\learn\\python\\learn\\datasets\\mnist.py:110: dense_to_one_hot (from tensorflow.contrib.learn.python.learn.datasets.mnist) is deprecated and will be removed in a future version.\n",
      "Instructions for updating:\n",
      "Please use tf.one_hot on tensors.\n",
      "W1106 03:48:11.475742 10276 deprecation.py:323] From C:\\Users\\oyeoy\\Anaconda3\\lib\\site-packages\\tensorflow\\contrib\\learn\\python\\learn\\datasets\\mnist.py:290: DataSet.__init__ (from tensorflow.contrib.learn.python.learn.datasets.mnist) is deprecated and will be removed in a future version.\n",
      "Instructions for updating:\n",
      "Please use alternatives such as official/mnist/dataset.py from tensorflow/models.\n"
     ]
    },
    {
     "name": "stdout",
     "output_type": "stream",
     "text": [
      "Extracting /tmp/data/train-labels-idx1-ubyte.gz\n",
      "Extracting /tmp/data/t10k-images-idx3-ubyte.gz\n",
      "Extracting /tmp/data/t10k-labels-idx1-ubyte.gz\n"
     ]
    },
    {
     "name": "stderr",
     "output_type": "stream",
     "text": [
      "W1106 03:48:12.106590 10276 deprecation.py:323] From <ipython-input-1-1b96f7fad4ca>:38: BasicRNNCell.__init__ (from tensorflow.python.ops.rnn_cell_impl) is deprecated and will be removed in a future version.\n",
      "Instructions for updating:\n",
      "This class is equivalent as tf.keras.layers.SimpleRNNCell, and will be replaced by that in Tensorflow 2.0.\n",
      "W1106 03:48:12.109583 10276 deprecation.py:323] From <ipython-input-1-1b96f7fad4ca>:40: static_rnn (from tensorflow.python.ops.rnn) is deprecated and will be removed in a future version.\n",
      "Instructions for updating:\n",
      "Please use `keras.layers.RNN(cell, unroll=True)`, which is equivalent to this API\n",
      "W1106 03:48:12.199413 10276 deprecation.py:506] From C:\\Users\\oyeoy\\Anaconda3\\lib\\site-packages\\tensorflow\\python\\ops\\init_ops.py:1251: calling VarianceScaling.__init__ (from tensorflow.python.ops.init_ops) with dtype is deprecated and will be removed in a future version.\n",
      "Instructions for updating:\n",
      "Call initializer instance with the dtype argument instead of passing it to the constructor\n",
      "W1106 03:48:12.304186 10276 deprecation.py:506] From C:\\Users\\oyeoy\\Anaconda3\\lib\\site-packages\\tensorflow\\python\\ops\\rnn_cell_impl.py:459: calling Zeros.__init__ (from tensorflow.python.ops.init_ops) with dtype is deprecated and will be removed in a future version.\n",
      "Instructions for updating:\n",
      "Call initializer instance with the dtype argument instead of passing it to the constructor\n",
      "W1106 03:48:12.794875 10276 deprecation.py:323] From <ipython-input-1-1b96f7fad4ca>:49: softmax_cross_entropy_with_logits (from tensorflow.python.ops.nn_ops) is deprecated and will be removed in a future version.\n",
      "Instructions for updating:\n",
      "\n",
      "Future major versions of TensorFlow will allow gradients to flow\n",
      "into the labels input on backprop by default.\n",
      "\n",
      "See `tf.nn.softmax_cross_entropy_with_logits_v2`.\n",
      "\n"
     ]
    },
    {
     "name": "stdout",
     "output_type": "stream",
     "text": [
      "Iter 0, Minibatch Loss= 0.512333, Training Accuracy= 0.83000\n",
      "Iter 10, Minibatch Loss= 0.152185, Training Accuracy= 0.95000\n",
      "Iter 20, Minibatch Loss= 0.031061, Training Accuracy= 0.99000\n",
      "Iter 30, Minibatch Loss= 0.016309, Training Accuracy= 1.00000\n",
      "Iter 40, Minibatch Loss= 0.051129, Training Accuracy= 0.99000\n",
      "Optimization finished\n",
      "Testing Accuracy: 0.9769\n"
     ]
    }
   ],
   "source": [
    "import tensorflow as tf\n",
    "from tensorflow.python.ops import rnn, rnn_cell\n",
    "import numpy as np\n",
    "\n",
    "from tensorflow.examples.tutorials.mnist import input_data\n",
    "\n",
    "mnist = input_data.read_data_sets(\"/tmp/data/\", one_hot = True)\n",
    "\n",
    "learningRate =.0001\n",
    "trainingIters = 50\n",
    "batchSize = 100\n",
    "displayStep = 10\n",
    "\n",
    "nInput = 28 #we want the input to take the 28 pixels\n",
    "nSteps = 28 #every 28\n",
    "nHidden = 128 #number of neurons for the RNN\n",
    "nClasses = 10 #this is MNIST so you know\n",
    "\n",
    "x = tf.placeholder('float', [None, nSteps, nInput])\n",
    "y = tf.placeholder('float', [None, nClasses])\n",
    "\n",
    "weights = {\n",
    "    'out': tf.Variable(tf.random_normal([nHidden, nClasses]))\n",
    "}\n",
    "\n",
    "biases = {\n",
    "    'out': tf.Variable(tf.random_normal([nClasses]))\n",
    "}\n",
    "\n",
    "def RNN(x, weights, biases):\n",
    "    x = tf.transpose(x, [1,0,2])\n",
    "    x = tf.reshape(x, [-1, nInput])\n",
    "    x = tf.split(x, nSteps, 0) #configuring so you can get it as needed for the 28 pixels\n",
    "\n",
    "    rnnCell = rnn_cell.BasicRNNCell(nHidden)#find which RNN to use in the documentation\n",
    "\n",
    "    outputs, states = rnn.static_rnn(rnnCell, x, dtype=tf.float32)#for the rnn where to get the output and hidden state\n",
    "\n",
    "    return tf.matmul(outputs[-1], weights['out'])+ biases['out']\n",
    "\n",
    "pred = RNN(x, weights, biases)\n",
    "\n",
    "#optimization\n",
    "#create the cost, optimization, evaluation, and accuracy\n",
    "#for the cost softmax_cross_entropy_with_logits seems really good\n",
    "cost = tf.reduce_mean( tf.nn.softmax_cross_entropy_with_logits(logits=pred, labels=y))\n",
    "optimizer = tf.train.AdamOptimizer(learningRate).minimize(cost)\n",
    "\n",
    "correctPred =tf.equal(tf.argmax(pred, 1), tf.argmax(y, 1))\n",
    "accuracy = tf.reduce_mean(tf.cast(correctPred, 'float'))\n",
    "\n",
    "init = tf.global_variables_initializer()\n",
    "\n",
    "with tf.Session() as sess:\n",
    "    sess.run(init)\n",
    "\n",
    "    # while step* batchSize < trainingIters:\n",
    "    for step in range(trainingIters):\n",
    "\n",
    "        for _ in range(int(mnist.train.num_examples / batchSize)):\n",
    "            batchX, batchY = mnist.train.next_batch(batchSize)#mnist has a way to get the next batch\n",
    "            batchX = batchX.reshape((batchSize, nSteps, nInput))\n",
    "\n",
    "            sess.run(optimizer, feed_dict={x: batchX, y:batchY})\n",
    "\n",
    "        if step % displayStep == 0:\n",
    "            acc = sess.run(accuracy, feed_dict={x: batchX, y:batchY})\n",
    "            loss = sess.run(cost, feed_dict={x: batchX, y:batchY})\n",
    "            print(\"Iter \" + str(step) + \", Minibatch Loss= \" +\n",
    "                  \"{:.6f}\".format(loss) + \", Training Accuracy= \" +\n",
    "                  \"{:.5f}\".format(acc))\n",
    "\n",
    "    print('Optimization finished')\n",
    "\n",
    "    testData = mnist.test.images.reshape((-1, nSteps, nInput))\n",
    "    testLabel = mnist.test.labels\n",
    "    print(\"Testing Accuracy:\", sess.run(accuracy, feed_dict={x: testData, y:testLabel}))\n",
    "    "
   ]
  },
  {
   "cell_type": "code",
   "execution_count": null,
   "metadata": {},
   "outputs": [],
   "source": []
  },
  {
   "cell_type": "code",
   "execution_count": null,
   "metadata": {},
   "outputs": [],
   "source": []
  }
 ],
 "metadata": {
  "kernelspec": {
   "display_name": "Python 3",
   "language": "python",
   "name": "python3"
  },
  "language_info": {
   "codemirror_mode": {
    "name": "ipython",
    "version": 3
   },
   "file_extension": ".py",
   "mimetype": "text/x-python",
   "name": "python",
   "nbconvert_exporter": "python",
   "pygments_lexer": "ipython3",
   "version": "3.7.4"
  }
 },
 "nbformat": 4,
 "nbformat_minor": 2
}
